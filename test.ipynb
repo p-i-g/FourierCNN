{
 "cells": [
  {
   "cell_type": "code",
   "execution_count": 1,
   "outputs": [],
   "source": [
    "import os\n",
    "os.environ[\"KERAS_BACKEND\"] = 'tensorflow'"
   ],
   "metadata": {
    "collapsed": false,
    "ExecuteTime": {
     "end_time": "2023-10-06T07:32:09.285882300Z",
     "start_time": "2023-10-06T07:32:09.220396200Z"
    }
   },
   "id": "d80f8bcb43e02348"
  },
  {
   "cell_type": "code",
   "execution_count": 2,
   "outputs": [
    {
     "name": "stdout",
     "output_type": "stream",
     "text": [
      "Using TensorFlow backend\n"
     ]
    },
    {
     "name": "stderr",
     "output_type": "stream",
     "text": [
      "2023-10-06 15:32:09.686260: I tensorflow/core/platform/cpu_feature_guard.cc:182] This TensorFlow binary is optimized to use available CPU instructions in performance-critical operations.\n",
      "To enable the following instructions: AVX2 FMA, in other operations, rebuild TensorFlow with the appropriate compiler flags.\n",
      "2023-10-06 15:32:10.436247: W tensorflow/compiler/tf2tensorrt/utils/py_utils.cc:38] TF-TRT Warning: Could not find TensorRT\n"
     ]
    }
   ],
   "source": [
    "from keras_core import layers\n",
    "from keras_core import ops\n",
    "import tensorflow as tf\n",
    "from keras_core import models\n",
    "from modules import FourierConv2D, FourierCNN\n",
    "import tensorflow_datasets as tfds\n",
    "import matplotlib.pyplot as plt"
   ],
   "metadata": {
    "collapsed": false,
    "ExecuteTime": {
     "end_time": "2023-10-06T07:32:12.222673500Z",
     "start_time": "2023-10-06T07:32:09.268634600Z"
    }
   },
   "id": "5a926f3773bdc6b7"
  },
  {
   "cell_type": "code",
   "execution_count": 3,
   "outputs": [
    {
     "name": "stderr",
     "output_type": "stream",
     "text": [
      "2023-10-06 15:32:12.516672: I tensorflow/compiler/xla/stream_executor/cuda/cuda_gpu_executor.cc:982] could not open file to read NUMA node: /sys/bus/pci/devices/0000:01:00.0/numa_node\n",
      "Your kernel may have been built without NUMA support.\n",
      "2023-10-06 15:32:12.535012: I tensorflow/compiler/xla/stream_executor/cuda/cuda_gpu_executor.cc:982] could not open file to read NUMA node: /sys/bus/pci/devices/0000:01:00.0/numa_node\n",
      "Your kernel may have been built without NUMA support.\n",
      "2023-10-06 15:32:12.535067: I tensorflow/compiler/xla/stream_executor/cuda/cuda_gpu_executor.cc:982] could not open file to read NUMA node: /sys/bus/pci/devices/0000:01:00.0/numa_node\n",
      "Your kernel may have been built without NUMA support.\n",
      "2023-10-06 15:32:12.536462: I tensorflow/compiler/xla/stream_executor/cuda/cuda_gpu_executor.cc:982] could not open file to read NUMA node: /sys/bus/pci/devices/0000:01:00.0/numa_node\n",
      "Your kernel may have been built without NUMA support.\n",
      "2023-10-06 15:32:12.536544: I tensorflow/compiler/xla/stream_executor/cuda/cuda_gpu_executor.cc:982] could not open file to read NUMA node: /sys/bus/pci/devices/0000:01:00.0/numa_node\n",
      "Your kernel may have been built without NUMA support.\n",
      "2023-10-06 15:32:12.536579: I tensorflow/compiler/xla/stream_executor/cuda/cuda_gpu_executor.cc:982] could not open file to read NUMA node: /sys/bus/pci/devices/0000:01:00.0/numa_node\n",
      "Your kernel may have been built without NUMA support.\n",
      "2023-10-06 15:32:13.436878: I tensorflow/compiler/xla/stream_executor/cuda/cuda_gpu_executor.cc:982] could not open file to read NUMA node: /sys/bus/pci/devices/0000:01:00.0/numa_node\n",
      "Your kernel may have been built without NUMA support.\n",
      "2023-10-06 15:32:13.437045: I tensorflow/compiler/xla/stream_executor/cuda/cuda_gpu_executor.cc:982] could not open file to read NUMA node: /sys/bus/pci/devices/0000:01:00.0/numa_node\n",
      "Your kernel may have been built without NUMA support.\n",
      "2023-10-06 15:32:13.437055: I tensorflow/core/common_runtime/gpu/gpu_device.cc:1722] Could not identify NUMA node of platform GPU id 0, defaulting to 0.  Your kernel may not have been built with NUMA support.\n",
      "2023-10-06 15:32:13.437100: I tensorflow/compiler/xla/stream_executor/cuda/cuda_gpu_executor.cc:982] could not open file to read NUMA node: /sys/bus/pci/devices/0000:01:00.0/numa_node\n",
      "Your kernel may have been built without NUMA support.\n",
      "2023-10-06 15:32:13.437128: I tensorflow/core/common_runtime/gpu/gpu_device.cc:1635] Created device /job:localhost/replica:0/task:0/device:GPU:0 with 6551 MB memory:  -> device: 0, name: NVIDIA GeForce GTX 1080, pci bus id: 0000:01:00.0, compute capability: 6.1\n",
      "2023-10-06 15:32:17.369376: I tensorflow/compiler/xla/stream_executor/cuda/cuda_dnn.cc:424] Loaded cuDNN version 8600\n"
     ]
    },
    {
     "data": {
      "text/plain": "\u001B[1mModel: \"fourier_cnn\"\u001B[0m\n",
      "text/html": "<pre style=\"white-space:pre;overflow-x:auto;line-height:normal;font-family:Menlo,'DejaVu Sans Mono',consolas,'Courier New',monospace\"><span style=\"font-weight: bold\">Model: \"fourier_cnn\"</span>\n</pre>\n"
     },
     "metadata": {},
     "output_type": "display_data"
    },
    {
     "data": {
      "text/plain": "┏━━━━━━━━━━━━━━━━━━━━━━━━━━━━━━━━━┳━━━━━━━━━━━━━━━━━━━━━━━━━━━┳━━━━━━━━━━━━┓\n┃\u001B[1m \u001B[0m\u001B[1mLayer (type)                   \u001B[0m\u001B[1m \u001B[0m┃\u001B[1m \u001B[0m\u001B[1mOutput Shape             \u001B[0m\u001B[1m \u001B[0m┃\u001B[1m \u001B[0m\u001B[1m   Param #\u001B[0m\u001B[1m \u001B[0m┃\n┡━━━━━━━━━━━━━━━━━━━━━━━━━━━━━━━━━╇━━━━━━━━━━━━━━━━━━━━━━━━━━━╇━━━━━━━━━━━━┩\n│ fourier_cnn/stem (\u001B[38;5;33mSequential\u001B[0m)   │ ?                         │      \u001B[38;5;34m4,800\u001B[0m │\n├─────────────────────────────────┼───────────────────────────┼────────────┤\n│ fourier_cnn/downsampling_0      │ ?                         │     \u001B[38;5;34m37,152\u001B[0m │\n│ (\u001B[38;5;33mSequential\u001B[0m)                    │                           │            │\n├─────────────────────────────────┼───────────────────────────┼────────────┤\n│ fourier_cnn/downsampling_1      │ ?                         │     \u001B[38;5;34m74,208\u001B[0m │\n│ (\u001B[38;5;33mSequential\u001B[0m)                    │                           │            │\n├─────────────────────────────────┼───────────────────────────┼────────────┤\n│ fourier_cnn/downsampling_2      │ ?                         │    \u001B[38;5;34m148,320\u001B[0m │\n│ (\u001B[38;5;33mSequential\u001B[0m)                    │                           │            │\n├─────────────────────────────────┼───────────────────────────┼────────────┤\n│ fourier_cnn/stage_0             │ ?                         │  \u001B[38;5;34m1,158,624\u001B[0m │\n│ (\u001B[38;5;33mSequential\u001B[0m)                    │                           │            │\n├─────────────────────────────────┼───────────────────────────┼────────────┤\n│ fourier_cnn/stage_1             │ ?                         │  \u001B[38;5;34m1,218,048\u001B[0m │\n│ (\u001B[38;5;33mSequential\u001B[0m)                    │                           │            │\n├─────────────────────────────────┼───────────────────────────┼────────────┤\n│ fourier_cnn/stage_2             │ ?                         │ \u001B[38;5;34m10,907,712\u001B[0m │\n│ (\u001B[38;5;33mSequential\u001B[0m)                    │                           │            │\n├─────────────────────────────────┼───────────────────────────┼────────────┤\n│ fourier_cnn/stage_3             │ ?                         │ \u001B[38;5;34m12,197,568\u001B[0m │\n│ (\u001B[38;5;33mSequential\u001B[0m)                    │                           │            │\n├─────────────────────────────────┼───────────────────────────┼────────────┤\n│ fourier_cnn/final_pool          │ ?                         │          \u001B[38;5;34m0\u001B[0m │\n│ (\u001B[38;5;33mGlobalAveragePooling2D\u001B[0m)        │                           │            │\n├─────────────────────────────────┼───────────────────────────┼────────────┤\n│ fourier_cnn/final_layer_norm    │ ?                         │      \u001B[38;5;34m1,536\u001B[0m │\n│ (\u001B[38;5;33mLayerNormalization\u001B[0m)            │                           │            │\n├─────────────────────────────────┼───────────────────────────┼────────────┤\n│ fourier_cnn/classification_head │ ?                         │    \u001B[38;5;34m769,000\u001B[0m │\n│ (\u001B[38;5;33mDense\u001B[0m)                         │                           │            │\n└─────────────────────────────────┴───────────────────────────┴────────────┘\n",
      "text/html": "<pre style=\"white-space:pre;overflow-x:auto;line-height:normal;font-family:Menlo,'DejaVu Sans Mono',consolas,'Courier New',monospace\">┏━━━━━━━━━━━━━━━━━━━━━━━━━━━━━━━━━┳━━━━━━━━━━━━━━━━━━━━━━━━━━━┳━━━━━━━━━━━━┓\n┃<span style=\"font-weight: bold\"> Layer (type)                    </span>┃<span style=\"font-weight: bold\"> Output Shape              </span>┃<span style=\"font-weight: bold\">    Param # </span>┃\n┡━━━━━━━━━━━━━━━━━━━━━━━━━━━━━━━━━╇━━━━━━━━━━━━━━━━━━━━━━━━━━━╇━━━━━━━━━━━━┩\n│ fourier_cnn/stem (<span style=\"color: #0087ff; text-decoration-color: #0087ff\">Sequential</span>)   │ ?                         │      <span style=\"color: #00af00; text-decoration-color: #00af00\">4,800</span> │\n├─────────────────────────────────┼───────────────────────────┼────────────┤\n│ fourier_cnn/downsampling_0      │ ?                         │     <span style=\"color: #00af00; text-decoration-color: #00af00\">37,152</span> │\n│ (<span style=\"color: #0087ff; text-decoration-color: #0087ff\">Sequential</span>)                    │                           │            │\n├─────────────────────────────────┼───────────────────────────┼────────────┤\n│ fourier_cnn/downsampling_1      │ ?                         │     <span style=\"color: #00af00; text-decoration-color: #00af00\">74,208</span> │\n│ (<span style=\"color: #0087ff; text-decoration-color: #0087ff\">Sequential</span>)                    │                           │            │\n├─────────────────────────────────┼───────────────────────────┼────────────┤\n│ fourier_cnn/downsampling_2      │ ?                         │    <span style=\"color: #00af00; text-decoration-color: #00af00\">148,320</span> │\n│ (<span style=\"color: #0087ff; text-decoration-color: #0087ff\">Sequential</span>)                    │                           │            │\n├─────────────────────────────────┼───────────────────────────┼────────────┤\n│ fourier_cnn/stage_0             │ ?                         │  <span style=\"color: #00af00; text-decoration-color: #00af00\">1,158,624</span> │\n│ (<span style=\"color: #0087ff; text-decoration-color: #0087ff\">Sequential</span>)                    │                           │            │\n├─────────────────────────────────┼───────────────────────────┼────────────┤\n│ fourier_cnn/stage_1             │ ?                         │  <span style=\"color: #00af00; text-decoration-color: #00af00\">1,218,048</span> │\n│ (<span style=\"color: #0087ff; text-decoration-color: #0087ff\">Sequential</span>)                    │                           │            │\n├─────────────────────────────────┼───────────────────────────┼────────────┤\n│ fourier_cnn/stage_2             │ ?                         │ <span style=\"color: #00af00; text-decoration-color: #00af00\">10,907,712</span> │\n│ (<span style=\"color: #0087ff; text-decoration-color: #0087ff\">Sequential</span>)                    │                           │            │\n├─────────────────────────────────┼───────────────────────────┼────────────┤\n│ fourier_cnn/stage_3             │ ?                         │ <span style=\"color: #00af00; text-decoration-color: #00af00\">12,197,568</span> │\n│ (<span style=\"color: #0087ff; text-decoration-color: #0087ff\">Sequential</span>)                    │                           │            │\n├─────────────────────────────────┼───────────────────────────┼────────────┤\n│ fourier_cnn/final_pool          │ ?                         │          <span style=\"color: #00af00; text-decoration-color: #00af00\">0</span> │\n│ (<span style=\"color: #0087ff; text-decoration-color: #0087ff\">GlobalAveragePooling2D</span>)        │                           │            │\n├─────────────────────────────────┼───────────────────────────┼────────────┤\n│ fourier_cnn/final_layer_norm    │ ?                         │      <span style=\"color: #00af00; text-decoration-color: #00af00\">1,536</span> │\n│ (<span style=\"color: #0087ff; text-decoration-color: #0087ff\">LayerNormalization</span>)            │                           │            │\n├─────────────────────────────────┼───────────────────────────┼────────────┤\n│ fourier_cnn/classification_head │ ?                         │    <span style=\"color: #00af00; text-decoration-color: #00af00\">769,000</span> │\n│ (<span style=\"color: #0087ff; text-decoration-color: #0087ff\">Dense</span>)                         │                           │            │\n└─────────────────────────────────┴───────────────────────────┴────────────┘\n</pre>\n"
     },
     "metadata": {},
     "output_type": "display_data"
    },
    {
     "data": {
      "text/plain": "\u001B[1m Total params: \u001B[0m\u001B[38;5;34m26,516,968\u001B[0m (809.23 MB)\n",
      "text/html": "<pre style=\"white-space:pre;overflow-x:auto;line-height:normal;font-family:Menlo,'DejaVu Sans Mono',consolas,'Courier New',monospace\"><span style=\"font-weight: bold\"> Total params: </span><span style=\"color: #00af00; text-decoration-color: #00af00\">26,516,968</span> (809.23 MB)\n</pre>\n"
     },
     "metadata": {},
     "output_type": "display_data"
    },
    {
     "data": {
      "text/plain": "\u001B[1m Trainable params: \u001B[0m\u001B[38;5;34m26,516,968\u001B[0m (809.23 MB)\n",
      "text/html": "<pre style=\"white-space:pre;overflow-x:auto;line-height:normal;font-family:Menlo,'DejaVu Sans Mono',consolas,'Courier New',monospace\"><span style=\"font-weight: bold\"> Trainable params: </span><span style=\"color: #00af00; text-decoration-color: #00af00\">26,516,968</span> (809.23 MB)\n</pre>\n"
     },
     "metadata": {},
     "output_type": "display_data"
    },
    {
     "data": {
      "text/plain": "\u001B[1m Non-trainable params: \u001B[0m\u001B[38;5;34m0\u001B[0m (0.00 B)\n",
      "text/html": "<pre style=\"white-space:pre;overflow-x:auto;line-height:normal;font-family:Menlo,'DejaVu Sans Mono',consolas,'Courier New',monospace\"><span style=\"font-weight: bold\"> Non-trainable params: </span><span style=\"color: #00af00; text-decoration-color: #00af00\">0</span> (0.00 B)\n</pre>\n"
     },
     "metadata": {},
     "output_type": "display_data"
    }
   ],
   "source": [
    "model = FourierCNN()\n",
    "model(tf.zeros((1, 224, 224, 3)))\n",
    "model.summary()"
   ],
   "metadata": {
    "collapsed": false,
    "ExecuteTime": {
     "end_time": "2023-10-06T07:32:18.566945300Z",
     "start_time": "2023-10-06T07:32:12.250680700Z"
    }
   },
   "id": "7760ea94a1c9df31"
  },
  {
   "cell_type": "code",
   "execution_count": 4,
   "outputs": [],
   "source": [
    "from keras_core import utils"
   ],
   "metadata": {
    "collapsed": false,
    "ExecuteTime": {
     "end_time": "2023-10-06T07:32:18.583349600Z",
     "start_time": "2023-10-06T07:32:18.563000900Z"
    }
   },
   "id": "80f128a5758258f8"
  },
  {
   "cell_type": "code",
   "execution_count": 5,
   "outputs": [
    {
     "name": "stdout",
     "output_type": "stream",
     "text": [
      "You must install graphviz (see instructions at https://graphviz.gitlab.io/download/) for `plot_model` to work.\n"
     ]
    }
   ],
   "source": [
    "utils.plot_model(model)"
   ],
   "metadata": {
    "collapsed": false,
    "ExecuteTime": {
     "end_time": "2023-10-06T07:32:18.689679Z",
     "start_time": "2023-10-06T07:32:18.570475800Z"
    }
   },
   "id": "ce2cd582aeb455bd"
  },
  {
   "cell_type": "code",
   "execution_count": 6,
   "outputs": [],
   "source": [
    "test = FourierConv2D(use_bias=True, activation='linear', data_format='channels_last')\n",
    "model = models.Sequential([test])"
   ],
   "metadata": {
    "collapsed": false,
    "ExecuteTime": {
     "end_time": "2023-10-06T07:32:18.701186300Z",
     "start_time": "2023-10-06T07:32:18.683333100Z"
    }
   },
   "id": "78281b47179906d4"
  },
  {
   "cell_type": "code",
   "execution_count": 7,
   "outputs": [],
   "source": [
    "ds = tfds.load('cifar10', split='train')"
   ],
   "metadata": {
    "collapsed": false,
    "ExecuteTime": {
     "end_time": "2023-10-06T07:32:18.765433200Z",
     "start_time": "2023-10-06T07:32:18.696380900Z"
    }
   },
   "id": "5328246cfba29d3b"
  },
  {
   "cell_type": "code",
   "execution_count": 8,
   "outputs": [],
   "source": [
    "def gauss_kernel(channels, kernel_size, sigma):\n",
    "    ax = tf.range(-kernel_size // 2 + 1.0, kernel_size // 2 + 1.0)\n",
    "    xx, yy = tf.meshgrid(ax, ax)\n",
    "    kernel = tf.exp(-(xx ** 2 + yy ** 2) / (2.0 * sigma ** 2))\n",
    "    kernel = kernel / tf.reduce_sum(kernel)\n",
    "    kernel = tf.tile(kernel[..., tf.newaxis], [1, 1, channels])\n",
    "    return kernel\n",
    "\n",
    "def gaussian_blur(img, kernel):\n",
    "    gaussian_kernel = kernel\n",
    "    gaussian_kernel = gaussian_kernel[..., tf.newaxis]\n",
    "\n",
    "    return tf.nn.depthwise_conv2d(img, gaussian_kernel, [1, 1, 1, 1],\n",
    "                                  padding='SAME', data_format='NHWC')"
   ],
   "metadata": {
    "collapsed": false,
    "ExecuteTime": {
     "end_time": "2023-10-06T07:32:18.773967300Z",
     "start_time": "2023-10-06T07:32:18.769448200Z"
    }
   },
   "id": "9e6bbb8550c17533"
  },
  {
   "cell_type": "code",
   "execution_count": 9,
   "outputs": [],
   "source": [
    "kernel = gauss_kernel(3, 3, 2)\n",
    "def transform_cifar(x):\n",
    "    x = tf.cast(x['image'], tf.float32) / 255\n",
    "    y = gaussian_blur(x, kernel)\n",
    "    return x, y"
   ],
   "metadata": {
    "collapsed": false,
    "ExecuteTime": {
     "end_time": "2023-10-06T07:32:18.809119900Z",
     "start_time": "2023-10-06T07:32:18.772971900Z"
    }
   },
   "id": "ffafe0854f44a516"
  },
  {
   "cell_type": "code",
   "execution_count": 10,
   "outputs": [
    {
     "name": "stderr",
     "output_type": "stream",
     "text": [
      "2023-10-06 15:32:18.891804: I tensorflow/core/common_runtime/executor.cc:1197] [/device:CPU:0] (DEBUG INFO) Executor start aborting (this does not indicate an error and you can ignore this message): INVALID_ARGUMENT: You must feed a value for placeholder tensor 'Placeholder/_4' with dtype int64 and shape [1]\n",
      "\t [[{{node Placeholder/_4}}]]\n",
      "2023-10-06 15:32:18.892156: I tensorflow/core/common_runtime/executor.cc:1197] [/device:CPU:0] (DEBUG INFO) Executor start aborting (this does not indicate an error and you can ignore this message): INVALID_ARGUMENT: You must feed a value for placeholder tensor 'Placeholder/_3' with dtype int64 and shape [1]\n",
      "\t [[{{node Placeholder/_3}}]]\n",
      "2023-10-06 15:32:19.457668: I tensorflow/compiler/xla/service/service.cc:169] XLA service 0x1f487620 initialized for platform CUDA (this does not guarantee that XLA will be used). Devices:\n",
      "2023-10-06 15:32:19.457701: I tensorflow/compiler/xla/service/service.cc:177]   StreamExecutor device (0): NVIDIA GeForce GTX 1080, Compute Capability 6.1\n",
      "2023-10-06 15:32:19.502315: I tensorflow/compiler/mlir/tensorflow/utils/dump_mlir_util.cc:269] disabling MLIR crash reproducer, set env var `MLIR_CRASH_REPRODUCER_DIRECTORY` to enable.\n"
     ]
    },
    {
     "name": "stdout",
     "output_type": "stream",
     "text": [
      "\u001B[1m 45/782\u001B[0m \u001B[32m━\u001B[0m\u001B[37m━━━━━━━━━━━━━━━━━━━\u001B[0m \u001B[1m2s\u001B[0m 3ms/step - loss: 0.3042        "
     ]
    },
    {
     "name": "stderr",
     "output_type": "stream",
     "text": [
      "2023-10-06 15:32:19.859795: I ./tensorflow/compiler/jit/device_compiler.h:180] Compiled cluster using XLA!  This line is logged at most once for the lifetime of the process.\n"
     ]
    },
    {
     "name": "stdout",
     "output_type": "stream",
     "text": [
      "\u001B[1m782/782\u001B[0m \u001B[32m━━━━━━━━━━━━━━━━━━━━\u001B[0m\u001B[37m\u001B[0m \u001B[1m5s\u001B[0m 5ms/step - loss: 0.1525\n"
     ]
    },
    {
     "data": {
      "text/plain": "<keras_core.src.callbacks.history.History at 0x7f62004e09d0>"
     },
     "execution_count": 10,
     "metadata": {},
     "output_type": "execute_result"
    }
   ],
   "source": [
    "model.compile(loss='mse', optimizer='adam')\n",
    "model.fit(ds.batch(64).map(transform_cifar))"
   ],
   "metadata": {
    "collapsed": false,
    "ExecuteTime": {
     "end_time": "2023-10-06T07:32:23.789499100Z",
     "start_time": "2023-10-06T07:32:18.808113Z"
    }
   },
   "id": "daf1ca61c262b3f6"
  },
  {
   "cell_type": "code",
   "execution_count": 11,
   "outputs": [
    {
     "name": "stderr",
     "output_type": "stream",
     "text": [
      "2023-10-06 15:32:23.786450: I tensorflow/core/common_runtime/executor.cc:1197] [/device:CPU:0] (DEBUG INFO) Executor start aborting (this does not indicate an error and you can ignore this message): INVALID_ARGUMENT: You must feed a value for placeholder tensor 'Placeholder/_2' with dtype string and shape [1]\n",
      "\t [[{{node Placeholder/_2}}]]\n",
      "2023-10-06 15:32:23.787011: I tensorflow/core/common_runtime/executor.cc:1197] [/device:CPU:0] (DEBUG INFO) Executor start aborting (this does not indicate an error and you can ignore this message): INVALID_ARGUMENT: You must feed a value for placeholder tensor 'Placeholder/_3' with dtype int64 and shape [1]\n",
      "\t [[{{node Placeholder/_3}}]]\n"
     ]
    },
    {
     "name": "stdout",
     "output_type": "stream",
     "text": [
      "\u001B[1m1/1\u001B[0m \u001B[32m━━━━━━━━━━━━━━━━━━━━\u001B[0m\u001B[37m\u001B[0m \u001B[1m0s\u001B[0m 300ms/step - loss: 0.0141\n"
     ]
    }
   ],
   "source": [
    "out = model.evaluate(ds.batch(64).map(transform_cifar).take(1))"
   ],
   "metadata": {
    "collapsed": false,
    "ExecuteTime": {
     "end_time": "2023-10-06T07:32:24.095895800Z",
     "start_time": "2023-10-06T07:32:23.762293800Z"
    }
   },
   "id": "9e0fecc1912d4127"
  },
  {
   "cell_type": "code",
   "execution_count": 12,
   "outputs": [
    {
     "ename": "TypeError",
     "evalue": "'float' object is not subscriptable",
     "output_type": "error",
     "traceback": [
      "\u001B[0;31m---------------------------------------------------------------------------\u001B[0m",
      "\u001B[0;31mTypeError\u001B[0m                                 Traceback (most recent call last)",
      "Cell \u001B[0;32mIn[12], line 1\u001B[0m\n\u001B[0;32m----> 1\u001B[0m plt\u001B[38;5;241m.\u001B[39mimshow(\u001B[43mout\u001B[49m\u001B[43m[\u001B[49m\u001B[38;5;241;43m0\u001B[39;49m\u001B[43m]\u001B[49m)\n",
      "\u001B[0;31mTypeError\u001B[0m: 'float' object is not subscriptable"
     ]
    }
   ],
   "source": [
    "plt.imshow(out[0])"
   ],
   "metadata": {
    "collapsed": false,
    "ExecuteTime": {
     "end_time": "2023-10-06T07:32:24.970139800Z",
     "start_time": "2023-10-06T07:32:24.094893500Z"
    }
   },
   "id": "54a5fdac022435f2"
  },
  {
   "cell_type": "code",
   "execution_count": null,
   "outputs": [],
   "source": [],
   "metadata": {
    "collapsed": false,
    "ExecuteTime": {
     "end_time": "2023-10-06T07:32:24.981459700Z",
     "start_time": "2023-10-06T07:32:24.973143800Z"
    }
   },
   "id": "b5d7219aa4c3943c"
  }
 ],
 "metadata": {
  "kernelspec": {
   "display_name": "Python 3",
   "language": "python",
   "name": "python3"
  },
  "language_info": {
   "codemirror_mode": {
    "name": "ipython",
    "version": 2
   },
   "file_extension": ".py",
   "mimetype": "text/x-python",
   "name": "python",
   "nbconvert_exporter": "python",
   "pygments_lexer": "ipython2",
   "version": "2.7.6"
  }
 },
 "nbformat": 4,
 "nbformat_minor": 5
}
